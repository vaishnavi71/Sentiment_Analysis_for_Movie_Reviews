{
 "cells": [
  {
   "cell_type": "markdown",
   "id": "5c4e2af8",
   "metadata": {},
   "source": [
    "# Sentiment Analysis for Movie Reviews"
   ]
  },
  {
   "cell_type": "markdown",
   "id": "b687ca52",
   "metadata": {},
   "source": [
    "__import Libraries:__"
   ]
  },
  {
   "cell_type": "code",
   "execution_count": 1,
   "id": "4d808d50",
   "metadata": {},
   "outputs": [],
   "source": [
    "import numpy as np \n",
    "import pandas as pd \n",
    "import re \n",
    "from nltk.corpus import stopwords\n",
    "from nltk.tokenize import word_tokenize\n",
    "from nltk.stem import SnowballStemmer\n",
    "from sklearn.feature_extraction.text import CountVectorizer\n",
    "from sklearn.model_selection import train_test_split\n",
    "from sklearn.naive_bayes import GaussianNB,MultinomialNB,BernoulliNB\n",
    "from sklearn.metrics import accuracy_score\n",
    "import joblib"
   ]
  },
  {
   "cell_type": "markdown",
   "id": "539a78a0",
   "metadata": {},
   "source": [
    "# Data Preprocessing"
   ]
  },
  {
   "cell_type": "markdown",
   "id": "f053f20f",
   "metadata": {},
   "source": [
    "__Loading datasets:__"
   ]
  },
  {
   "cell_type": "code",
   "execution_count": 2,
   "id": "68607015",
   "metadata": {},
   "outputs": [
    {
     "data": {
      "text/plain": [
       "(50000, 2)"
      ]
     },
     "execution_count": 2,
     "metadata": {},
     "output_type": "execute_result"
    }
   ],
   "source": [
    "mr_data = pd.read_csv('/Users/Shivanibommagani/OneDrive/Desktop/IMDB.csv')\n",
    "mr_data.shape"
   ]
  },
  {
   "cell_type": "code",
   "execution_count": 3,
   "id": "db7f8ee2",
   "metadata": {},
   "outputs": [
    {
     "data": {
      "text/html": [
       "<div>\n",
       "<style scoped>\n",
       "    .dataframe tbody tr th:only-of-type {\n",
       "        vertical-align: middle;\n",
       "    }\n",
       "\n",
       "    .dataframe tbody tr th {\n",
       "        vertical-align: top;\n",
       "    }\n",
       "\n",
       "    .dataframe thead th {\n",
       "        text-align: right;\n",
       "    }\n",
       "</style>\n",
       "<table border=\"1\" class=\"dataframe\">\n",
       "  <thead>\n",
       "    <tr style=\"text-align: right;\">\n",
       "      <th></th>\n",
       "      <th>review</th>\n",
       "      <th>sentiment</th>\n",
       "    </tr>\n",
       "  </thead>\n",
       "  <tbody>\n",
       "    <tr>\n",
       "      <th>0</th>\n",
       "      <td>One of the other reviewers has mentioned that ...</td>\n",
       "      <td>positive</td>\n",
       "    </tr>\n",
       "    <tr>\n",
       "      <th>1</th>\n",
       "      <td>A wonderful little production. &lt;br /&gt;&lt;br /&gt;The...</td>\n",
       "      <td>positive</td>\n",
       "    </tr>\n",
       "    <tr>\n",
       "      <th>2</th>\n",
       "      <td>I thought this was a wonderful way to spend ti...</td>\n",
       "      <td>positive</td>\n",
       "    </tr>\n",
       "    <tr>\n",
       "      <th>3</th>\n",
       "      <td>Basically there's a family where a little boy ...</td>\n",
       "      <td>negative</td>\n",
       "    </tr>\n",
       "    <tr>\n",
       "      <th>4</th>\n",
       "      <td>Petter Mattei's \"Love in the Time of Money\" is...</td>\n",
       "      <td>positive</td>\n",
       "    </tr>\n",
       "  </tbody>\n",
       "</table>\n",
       "</div>"
      ],
      "text/plain": [
       "                                              review sentiment\n",
       "0  One of the other reviewers has mentioned that ...  positive\n",
       "1  A wonderful little production. <br /><br />The...  positive\n",
       "2  I thought this was a wonderful way to spend ti...  positive\n",
       "3  Basically there's a family where a little boy ...  negative\n",
       "4  Petter Mattei's \"Love in the Time of Money\" is...  positive"
      ]
     },
     "execution_count": 3,
     "metadata": {},
     "output_type": "execute_result"
    }
   ],
   "source": [
    "mr_data.head()"
   ]
  },
  {
   "cell_type": "code",
   "execution_count": 4,
   "id": "f8dc7cca",
   "metadata": {},
   "outputs": [
    {
     "data": {
      "text/plain": [
       "positive    25000\n",
       "negative    25000\n",
       "Name: sentiment, dtype: int64"
      ]
     },
     "execution_count": 4,
     "metadata": {},
     "output_type": "execute_result"
    }
   ],
   "source": [
    "mr_data.sentiment.value_counts()"
   ]
  },
  {
   "cell_type": "code",
   "execution_count": 5,
   "id": "fa80718a",
   "metadata": {},
   "outputs": [
    {
     "data": {
      "text/html": [
       "<div>\n",
       "<style scoped>\n",
       "    .dataframe tbody tr th:only-of-type {\n",
       "        vertical-align: middle;\n",
       "    }\n",
       "\n",
       "    .dataframe tbody tr th {\n",
       "        vertical-align: top;\n",
       "    }\n",
       "\n",
       "    .dataframe thead th {\n",
       "        text-align: right;\n",
       "    }\n",
       "</style>\n",
       "<table border=\"1\" class=\"dataframe\">\n",
       "  <thead>\n",
       "    <tr style=\"text-align: right;\">\n",
       "      <th></th>\n",
       "      <th>review</th>\n",
       "      <th>sentiment</th>\n",
       "    </tr>\n",
       "  </thead>\n",
       "  <tbody>\n",
       "    <tr>\n",
       "      <th>0</th>\n",
       "      <td>One of the other reviewers has mentioned that ...</td>\n",
       "      <td>1</td>\n",
       "    </tr>\n",
       "    <tr>\n",
       "      <th>1</th>\n",
       "      <td>A wonderful little production. &lt;br /&gt;&lt;br /&gt;The...</td>\n",
       "      <td>1</td>\n",
       "    </tr>\n",
       "    <tr>\n",
       "      <th>2</th>\n",
       "      <td>I thought this was a wonderful way to spend ti...</td>\n",
       "      <td>1</td>\n",
       "    </tr>\n",
       "    <tr>\n",
       "      <th>3</th>\n",
       "      <td>Basically there's a family where a little boy ...</td>\n",
       "      <td>0</td>\n",
       "    </tr>\n",
       "    <tr>\n",
       "      <th>4</th>\n",
       "      <td>Petter Mattei's \"Love in the Time of Money\" is...</td>\n",
       "      <td>1</td>\n",
       "    </tr>\n",
       "  </tbody>\n",
       "</table>\n",
       "</div>"
      ],
      "text/plain": [
       "                                              review  sentiment\n",
       "0  One of the other reviewers has mentioned that ...          1\n",
       "1  A wonderful little production. <br /><br />The...          1\n",
       "2  I thought this was a wonderful way to spend ti...          1\n",
       "3  Basically there's a family where a little boy ...          0\n",
       "4  Petter Mattei's \"Love in the Time of Money\" is...          1"
      ]
     },
     "execution_count": 5,
     "metadata": {},
     "output_type": "execute_result"
    }
   ],
   "source": [
    "mr_data.sentiment.replace('positive', 1, inplace=True)\n",
    "mr_data.sentiment.replace('negative', 0, inplace=True)\n",
    "mr_data.head(5)"
   ]
  },
  {
   "cell_type": "code",
   "execution_count": 6,
   "id": "e3c62eab",
   "metadata": {},
   "outputs": [
    {
     "name": "stdout",
     "output_type": "stream",
     "text": [
      "Analysis of data\n",
      "Number of samples: 50000\n",
      "Sentiment distribution:\n",
      "1    25000\n",
      "0    25000\n",
      "Name: sentiment, dtype: int64\n"
     ]
    },
    {
     "data": {
      "image/png": "[encoded data removed]",
      "text/plain": [
       "<Figure size 640x480 with 1 Axes>"
      ]
     },
     "metadata": {},
     "output_type": "display_data"
    }
   ],
   "source": [
    "import seaborn as sns\n",
    "import matplotlib.pyplot as plt\n",
    "print(\"Analysis of data\")\n",
    "print(\"Number of samples:\", len(mr_data))\n",
    "print(\"Sentiment distribution:\")\n",
    "print(mr_data['sentiment'].value_counts())\n",
    "sns.countplot(x='sentiment', data=mr_data)\n",
    "plt.show()"
   ]
  },
  {
   "cell_type": "code",
   "execution_count": 7,
   "id": "2e3e23f6",
   "metadata": {},
   "outputs": [],
   "source": [
    "from wordcloud import WordCloud\n"
   ]
  },
  {
   "cell_type": "markdown",
   "id": "e50c48b6",
   "metadata": {},
   "source": [
    "__Data Cleaning:__"
   ]
  },
  {
   "cell_type": "markdown",
   "id": "410f5aea",
   "metadata": {},
   "source": [
    "Clean the movie reviews in the data by removing special characters, HTML tags, stop words and by converting all the uppercase characters into lower case ,Stemming."
   ]
  },
  {
   "cell_type": "markdown",
   "id": "41ec8f1c",
   "metadata": {},
   "source": [
    "__Removing HTML tags from reviews:__"
   ]
  },
  {
   "cell_type": "code",
   "execution_count": 8,
   "id": "b8cf5aa9",
   "metadata": {},
   "outputs": [
    {
     "data": {
      "text/plain": [
       "\"One of the other reviewers has mentioned that after watching just 1 Oz episode you'll be hooked. They are right, as this is exactly what happened with me.The first thing that struck me about Oz was its brutality and unflinching scenes of violence, which set in right from the word GO. Trust me, this is not a show for the faint hearted or timid. This show pulls no punches with regards to drugs, sex or violence. Its is hardcore, in the classic use of the word.It is called OZ as that is the nickname given to the Oswald Maximum Security State Penitentary. It focuses mainly on Emerald City, an experimental section of the prison where all the cells have glass fronts and face inwards, so privacy is not high on the agenda. Em City is home to many..Aryans, Muslims, gangstas, Latinos, Christians, Italians, Irish and more....so scuffles, death stares, dodgy dealings and shady agreements are never far away.I would say the main appeal of the show is due to the fact that it goes where other shows wouldn't dare. Forget pretty pictures painted for mainstream audiences, forget charm, forget romance...OZ doesn't mess around. The first episode I ever saw struck me as so nasty it was surreal, I couldn't say I was ready for it, but as I watched more, I developed a taste for Oz, and got accustomed to the high levels of graphic violence. Not just violence, but injustice (crooked guards who'll be sold out for a nickel, inmates who'll kill on order and get away with it, well mannered, middle class inmates being turned into prison bitches due to their lack of street skills or prison experience) Watching Oz, you may become comfortable with what is uncomfortable viewing....thats if you can get in touch with your darker side.\""
      ]
     },
     "execution_count": 8,
     "metadata": {},
     "output_type": "execute_result"
    }
   ],
   "source": [
    "def htmltags(text):\n",
    "    cleaned = re.compile(r'<.*?>')\n",
    "    return re.sub(cleaned,'',text)\n",
    "\n",
    "mr_data.review = mr_data.review.apply(htmltags)\n",
    "mr_data.review[0]\n"
   ]
  },
  {
   "cell_type": "markdown",
   "id": "3d920cc9",
   "metadata": {},
   "source": [
    "__Removing special characters from reviews :__"
   ]
  },
  {
   "cell_type": "code",
   "execution_count": 9,
   "id": "4869445c",
   "metadata": {},
   "outputs": [
    {
     "name": "stdout",
     "output_type": "stream",
     "text": [
      "After removing special characters from reviews : \n",
      "One of the other reviewers has mentioned that after watching just 1 Oz episode you ll be hooked  They are right  as this is exactly what happened with me The first thing that struck me about Oz was its brutality and unflinching scenes of violence  which set in right from the word GO  Trust me  this is not a show for the faint hearted or timid  This show pulls no punches with regards to drugs  sex or violence  Its is hardcore  in the classic use of the word It is called OZ as that is the nickname given to the Oswald Maximum Security State Penitentary  It focuses mainly on Emerald City  an experimental section of the prison where all the cells have glass fronts and face inwards  so privacy is not high on the agenda  Em City is home to many  Aryans  Muslims  gangstas  Latinos  Christians  Italians  Irish and more    so scuffles  death stares  dodgy dealings and shady agreements are never far away I would say the main appeal of the show is due to the fact that it goes where other shows wouldn t dare  Forget pretty pictures painted for mainstream audiences  forget charm  forget romance   OZ doesn t mess around  The first episode I ever saw struck me as so nasty it was surreal  I couldn t say I was ready for it  but as I watched more  I developed a taste for Oz  and got accustomed to the high levels of graphic violence  Not just violence  but injustice  crooked guards who ll be sold out for a nickel  inmates who ll kill on order and get away with it  well mannered  middle class inmates being turned into prison bitches due to their lack of street skills or prison experience  Watching Oz  you may become comfortable with what is uncomfortable viewing    thats if you can get in touch with your darker side \n",
      "\n"
     ]
    }
   ],
   "source": [
    "def specialchar(text):\n",
    "    rem = ''\n",
    "    for i in text:\n",
    "        if i.isalnum():\n",
    "            rem = rem + i\n",
    "        else:\n",
    "            rem = rem + ' '\n",
    "    return rem\n",
    "\n",
    "mr_data.review = mr_data.review.apply(specialchar)\n",
    "print(f\"After removing special characters from reviews : \\n{mr_data.review[0]}\\n\")"
   ]
  },
  {
   "cell_type": "code",
   "execution_count": 10,
   "id": "0732c045",
   "metadata": {},
   "outputs": [
    {
     "name": "stdout",
     "output_type": "stream",
     "text": [
      "converting everything to lowercase in reviews : \n",
      "one of the other reviewers has mentioned that after watching just 1 oz episode you ll be hooked  they are right  as this is exactly what happened with me the first thing that struck me about oz was its brutality and unflinching scenes of violence  which set in right from the word go  trust me  this is not a show for the faint hearted or timid  this show pulls no punches with regards to drugs  sex or violence  its is hardcore  in the classic use of the word it is called oz as that is the nickname given to the oswald maximum security state penitentary  it focuses mainly on emerald city  an experimental section of the prison where all the cells have glass fronts and face inwards  so privacy is not high on the agenda  em city is home to many  aryans  muslims  gangstas  latinos  christians  italians  irish and more    so scuffles  death stares  dodgy dealings and shady agreements are never far away i would say the main appeal of the show is due to the fact that it goes where other shows wouldn t dare  forget pretty pictures painted for mainstream audiences  forget charm  forget romance   oz doesn t mess around  the first episode i ever saw struck me as so nasty it was surreal  i couldn t say i was ready for it  but as i watched more  i developed a taste for oz  and got accustomed to the high levels of graphic violence  not just violence  but injustice  crooked guards who ll be sold out for a nickel  inmates who ll kill on order and get away with it  well mannered  middle class inmates being turned into prison bitches due to their lack of street skills or prison experience  watching oz  you may become comfortable with what is uncomfortable viewing    thats if you can get in touch with your darker side \n",
      "\n"
     ]
    }
   ],
   "source": [
    "def lowercase(text):\n",
    "    return text.lower()\n",
    "\n",
    "mr_data.review = mr_data.review.apply(lowercase)\n",
    "print(f\"converting everything to lowercase in reviews : \\n{mr_data.review[0]}\\n\")\n"
   ]
  },
  {
   "cell_type": "code",
   "execution_count": 11,
   "id": "bcb816a2",
   "metadata": {},
   "outputs": [
    {
     "name": "stdout",
     "output_type": "stream",
     "text": [
      "Review sample after removing stopwords : \n",
      "['one', 'reviewers', 'mentioned', 'watching', '1', 'oz', 'episode', 'hooked', 'right', 'exactly', 'happened', 'first', 'thing', 'struck', 'oz', 'brutality', 'unflinching', 'scenes', 'violence', 'set', 'right', 'word', 'go', 'trust', 'show', 'faint', 'hearted', 'timid', 'show', 'pulls', 'punches', 'regards', 'drugs', 'sex', 'violence', 'hardcore', 'classic', 'use', 'word', 'called', 'oz', 'nickname', 'given', 'oswald', 'maximum', 'security', 'state', 'penitentary', 'focuses', 'mainly', 'emerald', 'city', 'experimental', 'section', 'prison', 'cells', 'glass', 'fronts', 'face', 'inwards', 'privacy', 'high', 'agenda', 'em', 'city', 'home', 'many', 'aryans', 'muslims', 'gangstas', 'latinos', 'christians', 'italians', 'irish', 'scuffles', 'death', 'stares', 'dodgy', 'dealings', 'shady', 'agreements', 'never', 'far', 'away', 'would', 'say', 'main', 'appeal', 'show', 'due', 'fact', 'goes', 'shows', 'dare', 'forget', 'pretty', 'pictures', 'painted', 'mainstream', 'audiences', 'forget', 'charm', 'forget', 'romance', 'oz', 'mess', 'around', 'first', 'episode', 'ever', 'saw', 'struck', 'nasty', 'surreal', 'say', 'ready', 'watched', 'developed', 'taste', 'oz', 'got', 'accustomed', 'high', 'levels', 'graphic', 'violence', 'violence', 'injustice', 'crooked', 'guards', 'sold', 'nickel', 'inmates', 'kill', 'order', 'get', 'away', 'well', 'mannered', 'middle', 'class', 'inmates', 'turned', 'prison', 'bitches', 'due', 'lack', 'street', 'skills', 'prison', 'experience', 'watching', 'oz', 'may', 'become', 'comfortable', 'uncomfortable', 'viewing', 'thats', 'get', 'touch', 'darker', 'side']\n",
      "\n"
     ]
    }
   ],
   "source": [
    "def sw(text):\n",
    "    stop_words = set(stopwords.words('english'))\n",
    "    words = word_tokenize(text)\n",
    "    return [w for w in words if w not in stop_words]\n",
    "\n",
    "mr_data.review = mr_data.review.apply(sw)\n",
    "print(f\"Review sample after removing stopwords : \\n{mr_data.review[0]}\\n\")"
   ]
  },
  {
   "cell_type": "code",
   "execution_count": 12,
   "id": "17f5f681",
   "metadata": {},
   "outputs": [
    {
     "name": "stdout",
     "output_type": "stream",
     "text": [
      "Review sample after stemming the words : \n",
      "one review mention watch 1 oz episod hook right exact happen first thing struck oz brutal unflinch scene violenc set right word go trust show faint heart timid show pull punch regard drug sex violenc hardcor classic use word call oz nicknam given oswald maximum secur state penitentari focus main emerald citi experiment section prison cell glass front face inward privaci high agenda em citi home mani aryan muslim gangsta latino christian italian irish scuffl death stare dodgi deal shadi agreement never far away would say main appeal show due fact goe show dare forget pretti pictur paint mainstream audienc forget charm forget romanc oz mess around first episod ever saw struck nasti surreal say readi watch develop tast oz got accustom high level graphic violenc violenc injustic crook guard sold nickel inmat kill order get away well manner middl class inmat turn prison bitch due lack street skill prison experi watch oz may becom comfort uncomfort view that get touch darker side\n",
      "\n"
     ]
    }
   ],
   "source": [
    "def stem_txt(text):\n",
    "    ss = SnowballStemmer('english')\n",
    "    return \" \".join([ss.stem(w) for w in text])\n",
    "\n",
    "mr_data.review = mr_data.review.apply(stem_txt)\n",
    "print(f\"Review sample after stemming the words : \\n{mr_data.review[0]}\\n\")"
   ]
  },
  {
   "cell_type": "code",
   "execution_count": 13,
   "id": "a16ea506",
   "metadata": {},
   "outputs": [
    {
     "name": "stdout",
     "output_type": "stream",
     "text": [
      "Bag of words\n",
      "\n",
      "(50000, 2000)\n",
      "(50000,)\n",
      "\n"
     ]
    }
   ],
   "source": [
    "# 3.1 Creating Bag Of Words (BOW)\n",
    "mr_X = np.array(mr_data.iloc[:,0].values)\n",
    "mr_y = np.array(mr_data.sentiment.values)\n",
    "mr_cv = CountVectorizer(max_features = 2000)\n",
    "mr_X = mr_cv.fit_transform(mr_data.review).toarray()\n",
    "print(f\"Bag of words\\n\")\n",
    "print(f\"{mr_X.shape}\")\n",
    "print(f\"{mr_y.shape}\\n\")\n"
   ]
  },
  {
   "cell_type": "code",
   "execution_count": 14,
   "id": "89b7a99e",
   "metadata": {},
   "outputs": [],
   "source": [
    "from sklearn.base import TransformerMixin \n",
    "class predictors(TransformerMixin):\n",
    "    def transform(self, mr_X, **transform_params):\n",
    "        return [clean_text(text) for text in mr_X]\n",
    "    def fit(self, mr_X, mr_y, **fit_params):\n",
    "        return self\n",
    "    def get_params(self, deep=True):\n",
    "        return {}\n",
    "def clean_text(text):\n",
    "    if isinstance(text, str):\n",
    "        return text.strip().lower()\n",
    "    elif isinstance(text, np.ndarray):\n",
    "        return np.vectorize(clean_text)(text)\n",
    "    else:\n",
    "        # Handle other data types if needed\n",
    "        return text\n",
    "\n",
    "def custom_preprocessor(doc):\n",
    "    if isinstance(doc, str):\n",
    "        return doc.lower()\n",
    "    elif isinstance(doc, np.ndarray):\n",
    "        return np.vectorize(custom_preprocessor)(doc)\n",
    "    else:\n",
    "        return doc\n",
    "\n",
    "def custom_tokenizer(doc):\n",
    "    if isinstance(doc, str):\n",
    "        return doc.split()  # Use your desired tokenization logic\n",
    "    elif isinstance(doc, np.ndarray):\n",
    "        return np.vectorize(custom_tokenizer)(doc)\n",
    "    else:\n",
    "        return doc\n",
    "\n",
    "cv = CountVectorizer(preprocessor=custom_preprocessor, tokenizer=custom_tokenizer)\n",
    "\n",
    "\n",
    "\n",
    "\n"
   ]
  },
  {
   "cell_type": "code",
   "execution_count": 15,
   "id": "88cb91df",
   "metadata": {},
   "outputs": [],
   "source": [
    "mr_Xtr, mr_Xte, mr_ytr, mr_yte = train_test_split(mr_X, mr_y, test_size=0.2, random_state=9)"
   ]
  },
  {
   "cell_type": "markdown",
   "id": "d02942d9",
   "metadata": {},
   "source": [
    "# Model Creation"
   ]
  },
  {
   "cell_type": "code",
   "execution_count": 27,
   "id": "8d8130e9",
   "metadata": {},
   "outputs": [
    {
     "name": "stdout",
     "output_type": "stream",
     "text": [
      "Confusion Matrix:\n",
      "[[2518 2505]\n",
      " [2330 2647]]\n",
      "\n",
      "Classification Report:\n",
      "              precision    recall  f1-score   support\n",
      "\n",
      "           0       0.52      0.50      0.51      5023\n",
      "           1       0.51      0.53      0.52      4977\n",
      "\n",
      "    accuracy                           0.52     10000\n",
      "   macro avg       0.52      0.52      0.52     10000\n",
      "weighted avg       0.52      0.52      0.52     10000\n",
      "\n",
      "Accuracy: 51.65%\n"
     ]
    }
   ],
   "source": [
    "from sklearn.pipeline import Pipeline\n",
    "from sklearn.linear_model import LogisticRegression\n",
    "from sklearn.metrics import accuracy_score, confusion_matrix, classification_report\n",
    "classifier = LogisticRegression()\n",
    "lrmod = Pipeline([(\"cleaner\", predictors()),\n",
    "                 ('vectorizer', cv),\n",
    "                 ('classifier', classifier)])\n",
    "\n",
    "# Train the Model\n",
    "lrmod.fit(mr_Xtr,mr_ytr)   \n",
    "pred_lr = lrmod.predict(mr_Xte)\n",
    "print(f'Confusion Matrix:\\n{confusion_matrix(mr_yte,pred_lr)}')\n",
    "print(f'\\nClassification Report:\\n{classification_report(mr_yte,pred_lr)}')\n",
    "print(f'Accuracy: {accuracy_score(mr_yte,pred_lr)*100}%')"
   ]
  },
  {
   "cell_type": "code",
   "execution_count": 43,
   "id": "a5e809bf",
   "metadata": {},
   "outputs": [
    {
     "name": "stdout",
     "output_type": "stream",
     "text": [
      "Prediction: 1\n"
     ]
    }
   ],
   "source": [
    "# Another random review\n",
    "pre = lrmod.predict([\"Production has an incredibly important place to shoot a series or film. Sometimes even a very minimalist story can reach an incredibly successful point after the right production stages. The Witcher series is far from minimalist. The Witcher is one of the best Middle-earth works in the world. Production quality is essential if you want to handle such a topic successfully\"])\n",
    "print(f'Prediction: {pre[0]}')"
   ]
  },
  {
   "cell_type": "code",
   "execution_count": 44,
   "id": "0a23a0a5",
   "metadata": {},
   "outputs": [
    {
     "name": "stdout",
     "output_type": "stream",
     "text": [
      "Confusion Matrix:\n",
      "[[2591 2432]\n",
      " [2362 2615]]\n",
      "\n",
      "Classification Report:\n",
      "              precision    recall  f1-score   support\n",
      "\n",
      "           0       0.52      0.52      0.52      5023\n",
      "           1       0.52      0.53      0.52      4977\n",
      "\n",
      "    accuracy                           0.52     10000\n",
      "   macro avg       0.52      0.52      0.52     10000\n",
      "weighted avg       0.52      0.52      0.52     10000\n",
      "\n",
      "Accuracy: 52.059999999999995%\n"
     ]
    }
   ],
   "source": [
    "from sklearn.ensemble import RandomForestClassifier\n",
    "RFclassifier = RandomForestClassifier(n_estimators = 200)\n",
    "rand_mod = Pipeline([(\"cleaner\", predictors()),\n",
    "                 ('vectorizer', cv),\n",
    "                 ('classifier', RFclassifier)])\n",
    "\n",
    "# Train the Model\n",
    "rand_mod.fit(mr_Xtr,mr_ytr)   \n",
    "pred_rf = rand_mod.predict(mr_Xte)\n",
    "print(f'Confusion Matrix:\\n{confusion_matrix(mr_yte,pred_rf)}')\n",
    "print(f'\\nClassification Report:\\n{classification_report(mr_yte,pred_rf)}')\n",
    "print(f'Accuracy: {accuracy_score(mr_yte,pred_rf)*100}%')"
   ]
  },
  {
   "cell_type": "code",
   "execution_count": 45,
   "id": "cdecf4e4",
   "metadata": {},
   "outputs": [
    {
     "name": "stdout",
     "output_type": "stream",
     "text": [
      "Prediction: 0\n"
     ]
    }
   ],
   "source": [
    "# Another random review\n",
    "pre = rand_mod.predict([\"I think this is my first review. This series is so bad I had to write one. I don't understand the good score. I have tried on 2 separate occasions to watch this show. Haven't even gotten past the 2nd episode because it is SO BORING.\"])\n",
    "print(f'Prediction: {pre[0]}')"
   ]
  },
  {
   "cell_type": "code",
   "execution_count": 31,
   "id": "52767e32",
   "metadata": {},
   "outputs": [
    {
     "name": "stderr",
     "output_type": "stream",
     "text": [
      "C:\\Users\\Shivanibommagani\\anaconda3\\lib\\site-packages\\sklearn\\svm\\_base.py:1206: ConvergenceWarning: Liblinear failed to converge, increase the number of iterations.\n",
      "  warnings.warn(\n"
     ]
    },
    {
     "name": "stdout",
     "output_type": "stream",
     "text": [
      "Confusion Matrix:\n",
      "[[   0 5023]\n",
      " [   0 4977]]\n",
      "\n",
      "Classification Report:\n",
      "              precision    recall  f1-score   support\n",
      "\n",
      "           0       0.00      0.00      0.00      5023\n",
      "           1       0.50      1.00      0.66      4977\n",
      "\n",
      "    accuracy                           0.50     10000\n",
      "   macro avg       0.25      0.50      0.33     10000\n",
      "weighted avg       0.25      0.50      0.33     10000\n",
      "\n",
      "Accuracy: 49.769999999999996%\n"
     ]
    },
    {
     "name": "stderr",
     "output_type": "stream",
     "text": [
      "C:\\Users\\Shivanibommagani\\anaconda3\\lib\\site-packages\\sklearn\\metrics\\_classification.py:1318: UndefinedMetricWarning: Precision and F-score are ill-defined and being set to 0.0 in labels with no predicted samples. Use `zero_division` parameter to control this behavior.\n",
      "  _warn_prf(average, modifier, msg_start, len(result))\n",
      "C:\\Users\\Shivanibommagani\\anaconda3\\lib\\site-packages\\sklearn\\metrics\\_classification.py:1318: UndefinedMetricWarning: Precision and F-score are ill-defined and being set to 0.0 in labels with no predicted samples. Use `zero_division` parameter to control this behavior.\n",
      "  _warn_prf(average, modifier, msg_start, len(result))\n",
      "C:\\Users\\Shivanibommagani\\anaconda3\\lib\\site-packages\\sklearn\\metrics\\_classification.py:1318: UndefinedMetricWarning: Precision and F-score are ill-defined and being set to 0.0 in labels with no predicted samples. Use `zero_division` parameter to control this behavior.\n",
      "  _warn_prf(average, modifier, msg_start, len(result))\n"
     ]
    }
   ],
   "source": [
    "from sklearn.svm import LinearSVC\n",
    "SVC_clf = LinearSVC()\n",
    "SVC_mod = Pipeline([(\"cleaner\", predictors()),\n",
    "                 ('vectorizer', cv),\n",
    "                 ('classifier', SVC_clf)])\n",
    "\n",
    "# Train the Model\n",
    "SVC_mod.fit(mr_Xtr,mr_ytr)   \n",
    "SVC_pred = SVC_mod.predict(mr_Xte)\n",
    "print(f'Confusion Matrix:\\n{confusion_matrix(mr_yte,SVC_pred)}')\n",
    "print(f'\\nClassification Report:\\n{classification_report(mr_yte,SVC_pred)}')\n",
    "print(f'Accuracy: {accuracy_score(mr_yte,SVC_pred)*100}%')"
   ]
  },
  {
   "cell_type": "code",
   "execution_count": 32,
   "id": "bf077aca",
   "metadata": {},
   "outputs": [
    {
     "name": "stdout",
     "output_type": "stream",
     "text": [
      "Prediction: 1\n"
     ]
    }
   ],
   "source": [
    "pre = SVC_mod.predict([\"Henry cavill nailed the role perfectly. The fight scenes, the music, the cinematography, the whole atmosphere is beyond amazing. Netflix did it again\"])\n",
    "print(f'Prediction: {pre[0]}')"
   ]
  },
  {
   "cell_type": "code",
   "execution_count": 33,
   "id": "353c703b",
   "metadata": {},
   "outputs": [
    {
     "data": {
      "text/plain": [
       "BernoulliNB()"
      ]
     },
     "execution_count": 33,
     "metadata": {},
     "output_type": "execute_result"
    }
   ],
   "source": [
    "g, m, b = GaussianNB(), MultinomialNB(alpha=1.0,fit_prior=True), BernoulliNB(alpha=1.0,fit_prior=True)\n",
    "g.fit(mr_Xtr, mr_ytr)\n",
    "m.fit(mr_Xtr, mr_ytr)\n",
    "b.fit(mr_Xtr, mr_ytr)"
   ]
  },
  {
   "cell_type": "code",
   "execution_count": 34,
   "id": "d9f44d6a",
   "metadata": {},
   "outputs": [
    {
     "name": "stdout",
     "output_type": "stream",
     "text": [
      "Confusion Matrix:\n",
      "[[4286  737]\n",
      " [1883 3094]]\n",
      "\n",
      "Classification Report:\n",
      "              precision    recall  f1-score   support\n",
      "\n",
      "           0       0.69      0.85      0.77      5023\n",
      "           1       0.81      0.62      0.70      4977\n",
      "\n",
      "    accuracy                           0.74     10000\n",
      "   macro avg       0.75      0.74      0.73     10000\n",
      "weighted avg       0.75      0.74      0.73     10000\n",
      "\n",
      "Gaussian accuracy    =  74.0 %\n",
      "Multinomial accuracy =  84.0 %\n",
      "Bernoulli accuracy   =  85.0 %\n"
     ]
    }
   ],
   "source": [
    "ypg = g.predict(mr_Xte)\n",
    "ypm = m.predict(mr_Xte)\n",
    "ypb = b.predict(mr_Xte)\n",
    "print(f'Confusion Matrix:\\n{confusion_matrix(mr_yte,ypg)}')\n",
    "print(f'\\nClassification Report:\\n{classification_report(mr_yte,ypg)}')\n",
    "print(f\"Gaussian accuracy    =  {round(accuracy_score(mr_yte, ypg), 2)*100} %\")\n",
    "print(f\"Multinomial accuracy =  {round(accuracy_score(mr_yte, ypm), 2)*100} %\")\n",
    "print(f\"Bernoulli accuracy   =  {round(accuracy_score(mr_yte, ypb), 2)*100} %\")\n",
    "\n"
   ]
  },
  {
   "cell_type": "code",
   "execution_count": 35,
   "id": "9a8972d8",
   "metadata": {},
   "outputs": [
    {
     "data": {
      "image/png": "[encoded data removed]",
      "text/plain": [
       "<Figure size 800x600 with 1 Axes>"
      ]
     },
     "metadata": {},
     "output_type": "display_data"
    }
   ],
   "source": [
    "from sklearn.metrics import roc_curve, roc_auc_score\n",
    "import matplotlib.pyplot as plt\n",
    "\n",
    "y_scores = b.predict_proba(mr_Xte)[:, 1] \n",
    "# Calculate the ROC curve\n",
    "fpr, tpr, thresholds = roc_curve(mr_yte, y_scores)\n",
    "\n",
    "# Calculate the AUC score\n",
    "roc_auc = roc_auc_score(mr_yte, y_scores)\n",
    "\n",
    "# Plot ROC curve\n",
    "plt.figure(figsize=(8, 6))\n",
    "plt.plot(fpr, tpr, color='darkorange', lw=2, label=f'AUC = {roc_auc:.2f}')\n",
    "plt.plot([0, 1], [0, 1], color='navy', lw=2, linestyle='--')\n",
    "plt.xlabel('False Positive Rate')\n",
    "plt.ylabel('True Positive Rate')\n",
    "plt.title('ROC Curve for Naive Bayes Model')\n",
    "plt.legend(loc='lower right')\n",
    "plt.show()\n"
   ]
  },
  {
   "cell_type": "markdown",
   "id": "fc47b990",
   "metadata": {},
   "source": [
    "# Results and comparisions"
   ]
  },
  {
   "cell_type": "code",
   "execution_count": 36,
   "id": "8c471207",
   "metadata": {},
   "outputs": [
    {
     "data": {
      "text/plain": [
       "<function matplotlib.pyplot.show(close=None, block=None)>"
      ]
     },
     "execution_count": 36,
     "metadata": {},
     "output_type": "execute_result"
    },
    {
     "data": {
      "image/png": "[encoded data removed]",
      "text/plain": [
       "<Figure size 640x480 with 1 Axes>"
      ]
     },
     "metadata": {},
     "output_type": "display_data"
    }
   ],
   "source": [
    "plt.bar(\"Random Forest\",51.65,label=\"Random Forest\")\n",
    "plt.bar(\"Logistic Regression\",51.65 ,label=\"Logistic Regression\")\n",
    "plt.bar(\"LinearSVC\",50.23 ,label=\"LinearSVC\")\n",
    "plt.bar(\"NaiveBayes\",85 ,label=\"Naive Bayes\")\n",
    "plt.xlabel(\"Accuracies\")\n",
    "plt.ylabel(\"Models\")\n",
    "plt.title(\"Accuracy comparison for regression models\")\n",
    "plt.legend()\n",
    "plt.show"
   ]
  },
  {
   "cell_type": "markdown",
   "id": "08ece051",
   "metadata": {},
   "source": [
    "__NaiveBayes Accuracy Comparision:__"
   ]
  },
  {
   "cell_type": "code",
   "execution_count": 37,
   "id": "7ec1c39c",
   "metadata": {},
   "outputs": [
    {
     "data": {
      "text/plain": [
       "<function matplotlib.pyplot.show(close=None, block=None)>"
      ]
     },
     "execution_count": 37,
     "metadata": {},
     "output_type": "execute_result"
    },
    {
     "data": {
      "image/png": "[encoded data removed]",
      "text/plain": [
       "<Figure size 640x480 with 1 Axes>"
      ]
     },
     "metadata": {},
     "output_type": "display_data"
    }
   ],
   "source": [
    "plt.bar(\"GaussianNaiveBayes\",74 ,label=\"GaussianNaiveBayes\")\n",
    "plt.bar(\"MultinomialNaiveBayes\",84 ,label=\"MultiNomialNaive Bayes\")\n",
    "plt.bar(\"BernoulliNaiveBayes\",85 ,label=\"BernoulliNaive Bayes\")\n",
    "plt.xlabel(\"Accuracies\")\n",
    "plt.ylabel(\"Models\")\n",
    "plt.title(\"Accuracy comparison for regression models\")\n",
    "plt.legend()\n",
    "plt.show"
   ]
  },
  {
   "cell_type": "code",
   "execution_count": null,
   "id": "d23ac538",
   "metadata": {},
   "outputs": [],
   "source": []
  }
 ],
 "metadata": {
  "kernelspec": {
   "display_name": "Python 3 (ipykernel)",
   "language": "python",
   "name": "python3"
  },
  "language_info": {
   "codemirror_mode": {
    "name": "ipython",
    "version": 3
   },
   "file_extension": ".py",
   "mimetype": "text/x-python",
   "name": "python",
   "nbconvert_exporter": "python",
   "pygments_lexer": "ipython3",
   "version": "3.9.12"
  }
 },
 "nbformat": 4,
 "nbformat_minor": 5
}
